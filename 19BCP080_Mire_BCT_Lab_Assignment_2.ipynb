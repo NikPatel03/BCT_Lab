{
  "nbformat": 4,
  "nbformat_minor": 0,
  "metadata": {
    "colab": {
      "provenance": []
    },
    "kernelspec": {
      "name": "python3",
      "display_name": "Python 3"
    },
    "language_info": {
      "name": "python"
    }
  },
  "cells": [
    {
      "cell_type": "markdown",
      "source": [
        "\n",
        "\n",
        "---\n",
        "\n",
        "\n",
        "**<center>Pandit Deendayal Energy University**<br>\n",
        "**School of Technology**<br>\n",
        "**Blockchain Technology Lab (20CP406P)**<br>\n",
        "**B.Tech-Computer Science & Engineering (Sem-VII)**<br>\n",
        "\n",
        "\n",
        "Name: Mire Kishorkumar Patel<br>\n",
        "Roll No.: 19BCP080<br>\n",
        "Branch: Computer Engineering<br>\n",
        "\n",
        "Lab 2 Assignment<br>\n",
        "Create Blocks with all the parameters and Link them with Hash Pointers\n",
        "\n",
        "---\n"
      ],
      "metadata": {
        "id": "YpedBcnMg7qw"
      }
    },
    {
      "cell_type": "code",
      "execution_count": null,
      "metadata": {
        "id": "mMn1ObIWVP_a"
      },
      "outputs": [],
      "source": [
        "# 19BCP080_Mire\n",
        "# Program: Create Blocks with all the parameters and Link them with Hash Pointers\n",
        "\n",
        "from hashlib import sha256"
      ]
    },
    {
      "cell_type": "code",
      "source": [
        "def hash(p_key, send_addr, recv_addr, amount):\n",
        "    ans = sha256((p_key+send_addr+recv_addr+amount).encode()).hexdigest()\n",
        "    return ans"
      ],
      "metadata": {
        "id": "35GtZyIEhhfu"
      },
      "execution_count": null,
      "outputs": []
    },
    {
      "cell_type": "code",
      "source": [
        "class node:\n",
        "    def __init__(self, prev=None, data=None, next=None):\n",
        "        self.prev = prev\n",
        "        self.data = data\n",
        "        self.next = next\n",
        "        \n",
        "        b = True\n",
        "        for i in range(9999999):\n",
        "            x = sha256((self.prev+data+str(i)).encode()).hexdigest()\n",
        "            if x[:4] == '0000':\n",
        "                self.hash = x\n",
        "                self.nonce = i\n",
        "                b = False\n",
        "                break\n",
        "\n",
        "        if b:\n",
        "            self.nonce = -1\n",
        "            self.hash = sha256((self.prev+data+str(-1)).encode()).hexdigest()\n"
      ],
      "metadata": {
        "id": "TU-vqmcuhkpe"
      },
      "execution_count": null,
      "outputs": []
    },
    {
      "cell_type": "code",
      "source": [
        "class blockchain:\n",
        "    def __init__(self):\n",
        "        self.head = None\n",
        "        \n",
        "    def add_end(self, data):\n",
        "        # new_node = node(data=data)\n",
        "        if self.head is None:\n",
        "            self.head = node(data=data, prev=\"0000000000000000000000000000000000000000000000000000000000000000\")\n",
        "            return\n",
        "\n",
        "        last = self.head\n",
        "        while last.next:\n",
        "            last = last.next\n",
        "\n",
        "        new_node = node(data=data, prev=last.data)\n",
        "        last.next = new_node\n",
        "        return\n",
        "\n",
        "    def display_all(self):\n",
        "        current = self.head\n",
        "        while current:\n",
        "            print(\"Data :\", current.data)\n",
        "            print(\"Hash :\", current.hash)\n",
        "            print(\"Nonce :\", current.nonce)\n",
        "            print()\n",
        "            current = current.next\n",
        "        return"
      ],
      "metadata": {
        "id": "DaLhJjMzhnp1"
      },
      "execution_count": null,
      "outputs": []
    },
    {
      "cell_type": "code",
      "source": [
        "x = blockchain()\n",
        "x.add_end('Mire ')\n",
        "x.add_end('Patel ')\n",
        "x.add_end('-')\n",
        "x.add_end('19BCP080')\n",
        "\n",
        "x.display_all()"
      ],
      "metadata": {
        "colab": {
          "base_uri": "https://localhost:8080/"
        },
        "id": "zuciaJO7hrVE",
        "outputId": "cf1ba482-4e00-4430-b521-5971403c5447"
      },
      "execution_count": null,
      "outputs": [
        {
          "output_type": "stream",
          "name": "stdout",
          "text": [
            "Data : Mire \n",
            "Hash : 00003357cc3ec7f533f413639f068d52bfda9c707803dac6651677e1f24fa1dc\n",
            "Nonce : 40072\n",
            "\n",
            "Data : Patel \n",
            "Hash : 000056660d4a58febb38c4b46772b73bee0ade3191d02b9da215b5238d8723df\n",
            "Nonce : 150012\n",
            "\n",
            "Data : -\n",
            "Hash : 0000c4e3f260afadfcba33f4ad28bb4fbf2c3c952063a7e39838cfbfba0f299c\n",
            "Nonce : 131937\n",
            "\n",
            "Data : 19BCP080\n",
            "Hash : 0000c0fcdd169d8972f8b64122f7c056cf048984f4fb9286b85c1cf8786d5e6c\n",
            "Nonce : 41815\n",
            "\n"
          ]
        }
      ]
    }
  ]
}