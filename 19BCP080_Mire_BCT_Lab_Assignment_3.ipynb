{
  "nbformat": 4,
  "nbformat_minor": 0,
  "metadata": {
    "colab": {
      "provenance": []
    },
    "kernelspec": {
      "name": "python3",
      "display_name": "Python 3"
    },
    "language_info": {
      "name": "python"
    }
  },
  "cells": [
    {
      "cell_type": "markdown",
      "source": [
        "\n",
        "\n",
        "---\n",
        "\n",
        "\n",
        "**<center>Pandit Deendayal Energy University**<br>\n",
        "**School of Technology**<br>\n",
        "**Blockchain Technology Lab (20CP406P)**<br>\n",
        "**B.Tech-Computer Science & Engineering (Sem-VII)**<br>\n",
        "\n",
        "\n",
        "Name: Mire Kishorkumar Patel<br>\n",
        "Roll No.: 19BCP080<br>\n",
        "Branch: Computer Engineering<br>\n",
        "\n",
        "Lab 3 Assignment<br>\n",
        "Doubly Linked List\n",
        "\n",
        "---\n"
      ],
      "metadata": {
        "id": "6GsfCKOQc0ja"
      }
    },
    {
      "cell_type": "code",
      "execution_count": null,
      "metadata": {
        "id": "GiFEmixHVBy2"
      },
      "outputs": [],
      "source": [
        "# 19BCP080_Mire\n",
        "# Program: Doubly Linked List"
      ]
    },
    {
      "cell_type": "code",
      "source": [
        "class node:\n",
        "    def __init__(self, prev=None, info=None, next=None):\n",
        "        self.prev = prev\n",
        "        self.info = info\n",
        "        self.next = next"
      ],
      "metadata": {
        "id": "3cczjoK2d5rj"
      },
      "execution_count": null,
      "outputs": []
    },
    {
      "cell_type": "code",
      "source": [
        "class Doubly_Linked_List:\n",
        "    def __init__(self):\n",
        "        self.head = None\n",
        "        \n",
        "    def add_end(self, info):\n",
        "        new_node = node(info=info)\n",
        "        if self.head is None:\n",
        "            self.head = new_node\n",
        "            return\n",
        "\n",
        "        last = self.head\n",
        "        while last.next:\n",
        "            last = last.next\n",
        "\n",
        "        last.next = new_node\n",
        "        new_node.prev = last\n",
        "        return\n",
        "\n",
        "    def display_all(self):\n",
        "        current = self.head\n",
        "        while current:\n",
        "            print(current.info)\n",
        "            current = current.next\n",
        "        return\n",
        "    \n",
        "    def add_start(self, info):\n",
        "        new_node = node(info=info)\n",
        "        if self.head is None:\n",
        "            self.head = new_node\n",
        "            return\n",
        "\n",
        "        new_node.next = self.head\n",
        "        self.head.prev = new_node\n",
        "        self.head = new_node\n",
        "        return\n",
        "\n",
        "    "
      ],
      "metadata": {
        "id": "y21xjl6Sd9xe"
      },
      "execution_count": null,
      "outputs": []
    },
    {
      "cell_type": "code",
      "source": [
        "y = Doubly_Linked_List()\n",
        "y.add_end(5)\n",
        "y.add_end(2)\n",
        "y.add_start(1)\n",
        "y.add_end(3)\n",
        "y.display_all()"
      ],
      "metadata": {
        "colab": {
          "base_uri": "https://localhost:8080/"
        },
        "id": "IPoNuEgkeBE-",
        "outputId": "363942f1-ff63-4a29-f59f-de9c7950216f"
      },
      "execution_count": null,
      "outputs": [
        {
          "output_type": "stream",
          "name": "stdout",
          "text": [
            "1\n",
            "5\n",
            "2\n",
            "3\n"
          ]
        }
      ]
    }
  ]
}